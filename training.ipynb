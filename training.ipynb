{
 "cells": [
  {
   "cell_type": "markdown",
   "id": "626da232",
   "metadata": {},
   "source": [
    "NOTE:This code was run on google colab    \n"
   ]
  },
  {
   "cell_type": "code",
   "execution_count": null,
   "id": "bf270027",
   "metadata": {
    "vscode": {
     "languageId": "plaintext"
    }
   },
   "outputs": [],
   "source": [
    "!pip install ultralytics"
   ]
  },
  {
   "cell_type": "code",
   "execution_count": null,
   "id": "b0393a5f",
   "metadata": {
    "vscode": {
     "languageId": "plaintext"
    }
   },
   "outputs": [],
   "source": [
    "from ultralytics import YOLO\n"
   ]
  },
  {
   "cell_type": "markdown",
   "id": "564eb4d4",
   "metadata": {},
   "source": [
    "REPLACE YOUR_API_KEY WITH YOUR ACTUAL ROBOFLOW KEY"
   ]
  },
  {
   "cell_type": "code",
   "execution_count": null,
   "id": "1504c98b",
   "metadata": {
    "vscode": {
     "languageId": "plaintext"
    }
   },
   "outputs": [],
   "source": [
    "!pip install roboflow\n",
    "\n",
    "from roboflow import Roboflow\n",
    "rf = Roboflow(api_key=\"YOUR_API_KEY\")\n",
    "project = rf.workspace(\"graveyard-hc6xb\").project(\"yolov11-seg-8iuse\")\n",
    "version = project.version(1)\n",
    "dataset = version.download(\"yolov8\")\n"
   ]
  },
  {
   "cell_type": "markdown",
   "id": "065072e7",
   "metadata": {},
   "source": [
    "TRAINING YOLOv8"
   ]
  },
  {
   "cell_type": "code",
   "execution_count": null,
   "id": "1f0ebdca",
   "metadata": {
    "vscode": {
     "languageId": "plaintext"
    }
   },
   "outputs": [],
   "source": [
    "!yolo task=segment mode=train model=yolov8s-seg.pt data={dataset.location}/data.yaml epochs=50 imgsz=640  # Change the epochs according to your requirements"
   ]
  }
 ],
 "metadata": {
  "language_info": {
   "name": "python"
  }
 },
 "nbformat": 4,
 "nbformat_minor": 5
}
